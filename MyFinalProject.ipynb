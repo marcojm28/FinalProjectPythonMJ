{
 "cells": [
  {
   "cell_type": "code",
   "execution_count": 56,
   "id": "26cf45e8",
   "metadata": {},
   "outputs": [
    {
     "name": "stdout",
     "output_type": "stream",
     "text": [
      "ETL Job Started\n",
      "Extract data from csv Started\n",
      "Extract data from csv Ended\n",
      "Extract phase Started\n",
      "Extract phase Ended\n",
      "Transform phase Started\n",
      "Transform phase Ended\n",
      "Load phase Started\n",
      "Load phase Ended\n",
      "ETL Job Ended\n"
     ]
    }
   ],
   "source": [
    "import pandas as pd\n",
    "import os\n",
    "\n",
    "def extract_from_csv(file_to_process):\n",
    "    dataframe = pd.read_csv(file_to_process)\n",
    "    return dataframe\n",
    "\n",
    "def extract():\n",
    "    df.columns = ['Name','Market Cap (US$ Billion)']\n",
    "    df2 = df.loc[df['Name'] == 'GBP']\n",
    "    return df2.head(5)\n",
    "\n",
    "def transform(dataFrame):\n",
    "    rateGBP = 0.84\n",
    "    dfrs = dataFrame[['Market Cap (US$ Billion)']] * rateGBP\n",
    "    dfrs = dfrs.round(decimals = 3)\n",
    "    dfrs.columns = ['Market Cap (GBP$ Billion)']    \n",
    "    return dfrs\n",
    "\n",
    "def load(dataFrame):\n",
    "    fileCsv = dataFrame.to_csv('bank_market_cap_gbp.csv', index = False)\n",
    "    \n",
    "def log(textLog):\n",
    "    print(textLog)\n",
    "    \n",
    "    \n",
    "    \n",
    "    \n",
    "    \n",
    "csv_path = 'https://cf-courses-data.s3.us.cloud-object-storage.appdomain.cloud/IBMDeveloperSkillsNetwork-PY0221EN-SkillsNetwork/labs/module%206/Final%20Assignment/exchange_rates.csv'\n",
    "\n",
    "log('ETL Job Started')\n",
    "log('Extract data from csv Started')\n",
    "df = extract_from_csv(csv_path)\n",
    "log('Extract data from csv Ended')\n",
    "\n",
    "log('Extract phase Started')\n",
    "df2 = extract()\n",
    "log('Extract phase Ended')\n",
    "\n",
    "log('Transform phase Started')\n",
    "df3 = transform(df2)\n",
    "log('Transform phase Ended')\n",
    "\n",
    "log('Load phase Started')\n",
    "load(df2)\n",
    "log('Load phase Ended')\n",
    "\n",
    "log(\"ETL Job Ended\")\n",
    "\n",
    "\n",
    "\n",
    "\n",
    "\n",
    "\n",
    "    "
   ]
  },
  {
   "cell_type": "code",
   "execution_count": 32,
   "id": "f56188f0",
   "metadata": {},
   "outputs": [
    {
     "data": {
      "text/html": [
       "<div>\n",
       "<style scoped>\n",
       "    .dataframe tbody tr th:only-of-type {\n",
       "        vertical-align: middle;\n",
       "    }\n",
       "\n",
       "    .dataframe tbody tr th {\n",
       "        vertical-align: top;\n",
       "    }\n",
       "\n",
       "    .dataframe thead th {\n",
       "        text-align: right;\n",
       "    }\n",
       "</style>\n",
       "<table border=\"1\" class=\"dataframe\">\n",
       "  <thead>\n",
       "    <tr style=\"text-align: right;\">\n",
       "      <th></th>\n",
       "      <th>Symbol</th>\n",
       "      <th>Rates</th>\n",
       "    </tr>\n",
       "  </thead>\n",
       "  <tbody>\n",
       "    <tr>\n",
       "      <th>9</th>\n",
       "      <td>GBP</td>\n",
       "      <td>0.732398</td>\n",
       "    </tr>\n",
       "  </tbody>\n",
       "</table>\n",
       "</div>"
      ],
      "text/plain": [
       "  Symbol     Rates\n",
       "9    GBP  0.732398"
      ]
     },
     "execution_count": 32,
     "metadata": {},
     "output_type": "execute_result"
    }
   ],
   "source": [
    "\n",
    "\n",
    "\n",
    "\n",
    "\n",
    "\n",
    "\n"
   ]
  },
  {
   "cell_type": "code",
   "execution_count": null,
   "id": "ae214d73",
   "metadata": {},
   "outputs": [],
   "source": []
  }
 ],
 "metadata": {
  "kernelspec": {
   "display_name": "Python 3 (ipykernel)",
   "language": "python",
   "name": "python3"
  },
  "language_info": {
   "codemirror_mode": {
    "name": "ipython",
    "version": 3
   },
   "file_extension": ".py",
   "mimetype": "text/x-python",
   "name": "python",
   "nbconvert_exporter": "python",
   "pygments_lexer": "ipython3",
   "version": "3.9.7"
  }
 },
 "nbformat": 4,
 "nbformat_minor": 5
}
